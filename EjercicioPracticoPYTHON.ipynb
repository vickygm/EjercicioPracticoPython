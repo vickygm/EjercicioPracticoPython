{
 "cells": [
  {
   "cell_type": "markdown",
   "metadata": {},
   "source": [
    "**KATIA GONZALEZ HERNANDEZ\n",
    "CESAR VALDEZ LEON\n",
    "VIRGINIA GARCIA MORALES**"
   ]
  },
  {
   "cell_type": "markdown",
   "metadata": {},
   "source": [
    "1.- Importa con la librería de pandas, como csv, los datos que vienen aquí:\n",
    "\n",
    "https://s3-ap-southeast-1.amazonaws.com/av-datahack-datacamp/train.csv y llámalo train_set\n",
    "\n",
    "https://s3-ap-southeast-1.amazonaws.com/av-datahack-datacamp/test.csv y llámalo test_set"
   ]
  },
  {
   "cell_type": "code",
   "execution_count": 18,
   "metadata": {},
   "outputs": [],
   "source": [
    "import pandas as pd\n",
    "train_set = pd.read_csv(\"/Users/katiagonzalezhernandez/Desktop/Ejercicio_practico_python/train.csv\")\n",
    "test_set  = pd.read_csv(\"/Users/katiagonzalezhernandez/Desktop/Ejercicio_practico_python/test.csv\")"
   ]
  },
  {
   "cell_type": "markdown",
   "metadata": {},
   "source": [
    "2.- Revisa este sitio para que entiendas el reto. Busca la documentación que viene sobre el dataset para llenar la misma tabla que llenaste para R, en donde venga la descripción, el tipo de variable, los rangos."
   ]
  },
  {
   "cell_type": "markdown",
   "metadata": {},
   "source": [
    "Train Table\n",
    "\n",
    "|  Nombre_Columna   |        Descripción       |     Posibles Valores     | Tipo de dato |\n",
    "| ----------------- |:------------------------:| ------------------------:| -------------:\n",
    "| Loan_ID           |      Id del préstamo     | Range(LP001002-LP002990) |    Ordinal   |\n",
    "| Gender            |           Género         |        Male-Female       |  Categórica  |\n",
    "| Married           |         Edo civil        |          Yes-No          |  Categórica  |\n",
    "| Dependents        |  Dependientes económicos |         0-1-2-3+         |   Numérica   |\n",
    "| Education         | Grado máximo de estudios |  Graduate-Not Graduate   |  Categórica  |\n",
    "| Self_Employed     | Trabajador Independiente |          Yes-No          |  Categórica  |\n",
    "| ApplicantIncome   |  Sueldo del solicitante  |     Range(150-81000)     |   Numérica   |\n",
    "| CoapplicantIncome | Sueldo del co-solicitante|      Range(0-41667)      |   Numérica   |\n",
    "| LoanAmount        |     Monto del préstamo   |       Range(9-700)       |   Numérica   |\n",
    "| Credit_History    |    Historial Crediticio  |           1-0            |  Categórica  |\n",
    "| Property_Area     |    Área de su propiedad  |   Rural-Semiurban-Urban  |  Categórica  |\n",
    "| Loan_Status       |   Estatus del préstamos  |           N-Y            |  Categórica  |"
   ]
  },
  {
   "cell_type": "markdown",
   "metadata": {},
   "source": [
    "Test Table\n",
    "\n",
    "|  Nombre_Columna   |        Descripción       |     Posibles Valores     | Tipo de dato |\n",
    "| ----------------- |:------------------------:| ------------------------:| -------------:\n",
    "| Loan_ID           |      Id del préstamo     | Range(LP001002-LP002990) |    Ordinal   |\n",
    "| Gender            |           Género         |        Male-Female       |  Categórica  |\n",
    "| Married           |         Edo civil        |          Yes-No          |  Categórica  |\n",
    "| Dependents        |  Dependientes económicos |         0-1-2-3+         |   Numérica   |\n",
    "| Education         | Grado máximo de estudios |  Graduate-Not Graduate   |  Categórica  |\n",
    "| Self_Employed     | Trabajador Independiente |          Yes-No          |  Categórica  |\n",
    "| ApplicantIncome   |  Sueldo del solicitante  |     Range(150-81000)     |   Numérica   |\n",
    "| CoapplicantIncome | Sueldo del co-solicitante|      Range(0-41667)      |   Numérica   |\n",
    "| LoanAmount        |     Monto del préstamo   |       Range(9-700)       |   Numérica   |\n",
    "| Credit_History    |    Historial Crediticio  |           1-0            |  Categórica  |\n",
    "| Property_Area     |    Área de su propiedad  |   Rural-Semiurban-Urban  |  Categórica  |"
   ]
  },
  {
   "cell_type": "markdown",
   "metadata": {},
   "source": [
    "3.- ¿Cuántas observaciones se tienen en cada dataset? ¿Cuántas columnas (puedes usar dataframe.columns)? ¿Cuáles son los primeros 5 registros?"
   ]
  },
  {
   "cell_type": "code",
   "execution_count": 22,
   "metadata": {},
   "outputs": [
    {
     "data": {
      "text/plain": [
       "Loan_ID              614\n",
       "Gender               601\n",
       "Married              611\n",
       "Dependents           599\n",
       "Education            614\n",
       "Self_Employed        582\n",
       "ApplicantIncome      614\n",
       "CoapplicantIncome    614\n",
       "LoanAmount           592\n",
       "Loan_Amount_Term     600\n",
       "Credit_History       564\n",
       "Property_Area        614\n",
       "Loan_Status          614\n",
       "dtype: int64"
      ]
     },
     "execution_count": 22,
     "metadata": {},
     "output_type": "execute_result"
    }
   ],
   "source": [
    "train_set.count()"
   ]
  },
  {
   "cell_type": "code",
   "execution_count": 21,
   "metadata": {},
   "outputs": [
    {
     "data": {
      "text/plain": [
       "Loan_ID              367\n",
       "Gender               356\n",
       "Married              367\n",
       "Dependents           357\n",
       "Education            367\n",
       "Self_Employed        344\n",
       "ApplicantIncome      367\n",
       "CoapplicantIncome    367\n",
       "LoanAmount           362\n",
       "Loan_Amount_Term     361\n",
       "Credit_History       338\n",
       "Property_Area        367\n",
       "dtype: int64"
      ]
     },
     "execution_count": 21,
     "metadata": {},
     "output_type": "execute_result"
    }
   ],
   "source": [
    "test_set.count()"
   ]
  },
  {
   "cell_type": "code",
   "execution_count": 24,
   "metadata": {},
   "outputs": [
    {
     "data": {
      "text/plain": [
       "13"
      ]
     },
     "execution_count": 24,
     "metadata": {},
     "output_type": "execute_result"
    }
   ],
   "source": [
    "len (train_set.columns)"
   ]
  },
  {
   "cell_type": "code",
   "execution_count": 25,
   "metadata": {},
   "outputs": [
    {
     "data": {
      "text/plain": [
       "12"
      ]
     },
     "execution_count": 25,
     "metadata": {},
     "output_type": "execute_result"
    }
   ],
   "source": [
    "len (test_set.columns)"
   ]
  },
  {
   "cell_type": "code",
   "execution_count": 26,
   "metadata": {},
   "outputs": [
    {
     "data": {
      "text/html": [
       "<div>\n",
       "<style scoped>\n",
       "    .dataframe tbody tr th:only-of-type {\n",
       "        vertical-align: middle;\n",
       "    }\n",
       "\n",
       "    .dataframe tbody tr th {\n",
       "        vertical-align: top;\n",
       "    }\n",
       "\n",
       "    .dataframe thead th {\n",
       "        text-align: right;\n",
       "    }\n",
       "</style>\n",
       "<table border=\"1\" class=\"dataframe\">\n",
       "  <thead>\n",
       "    <tr style=\"text-align: right;\">\n",
       "      <th></th>\n",
       "      <th>Loan_ID</th>\n",
       "      <th>Gender</th>\n",
       "      <th>Married</th>\n",
       "      <th>Dependents</th>\n",
       "      <th>Education</th>\n",
       "      <th>Self_Employed</th>\n",
       "      <th>ApplicantIncome</th>\n",
       "      <th>CoapplicantIncome</th>\n",
       "      <th>LoanAmount</th>\n",
       "      <th>Loan_Amount_Term</th>\n",
       "      <th>Credit_History</th>\n",
       "      <th>Property_Area</th>\n",
       "      <th>Loan_Status</th>\n",
       "    </tr>\n",
       "  </thead>\n",
       "  <tbody>\n",
       "    <tr>\n",
       "      <th>0</th>\n",
       "      <td>LP001002</td>\n",
       "      <td>Male</td>\n",
       "      <td>No</td>\n",
       "      <td>0</td>\n",
       "      <td>Graduate</td>\n",
       "      <td>No</td>\n",
       "      <td>5849</td>\n",
       "      <td>0.0</td>\n",
       "      <td>NaN</td>\n",
       "      <td>360.0</td>\n",
       "      <td>1.0</td>\n",
       "      <td>Urban</td>\n",
       "      <td>Y</td>\n",
       "    </tr>\n",
       "    <tr>\n",
       "      <th>1</th>\n",
       "      <td>LP001003</td>\n",
       "      <td>Male</td>\n",
       "      <td>Yes</td>\n",
       "      <td>1</td>\n",
       "      <td>Graduate</td>\n",
       "      <td>No</td>\n",
       "      <td>4583</td>\n",
       "      <td>1508.0</td>\n",
       "      <td>128.0</td>\n",
       "      <td>360.0</td>\n",
       "      <td>1.0</td>\n",
       "      <td>Rural</td>\n",
       "      <td>N</td>\n",
       "    </tr>\n",
       "    <tr>\n",
       "      <th>2</th>\n",
       "      <td>LP001005</td>\n",
       "      <td>Male</td>\n",
       "      <td>Yes</td>\n",
       "      <td>0</td>\n",
       "      <td>Graduate</td>\n",
       "      <td>Yes</td>\n",
       "      <td>3000</td>\n",
       "      <td>0.0</td>\n",
       "      <td>66.0</td>\n",
       "      <td>360.0</td>\n",
       "      <td>1.0</td>\n",
       "      <td>Urban</td>\n",
       "      <td>Y</td>\n",
       "    </tr>\n",
       "    <tr>\n",
       "      <th>3</th>\n",
       "      <td>LP001006</td>\n",
       "      <td>Male</td>\n",
       "      <td>Yes</td>\n",
       "      <td>0</td>\n",
       "      <td>Not Graduate</td>\n",
       "      <td>No</td>\n",
       "      <td>2583</td>\n",
       "      <td>2358.0</td>\n",
       "      <td>120.0</td>\n",
       "      <td>360.0</td>\n",
       "      <td>1.0</td>\n",
       "      <td>Urban</td>\n",
       "      <td>Y</td>\n",
       "    </tr>\n",
       "    <tr>\n",
       "      <th>4</th>\n",
       "      <td>LP001008</td>\n",
       "      <td>Male</td>\n",
       "      <td>No</td>\n",
       "      <td>0</td>\n",
       "      <td>Graduate</td>\n",
       "      <td>No</td>\n",
       "      <td>6000</td>\n",
       "      <td>0.0</td>\n",
       "      <td>141.0</td>\n",
       "      <td>360.0</td>\n",
       "      <td>1.0</td>\n",
       "      <td>Urban</td>\n",
       "      <td>Y</td>\n",
       "    </tr>\n",
       "  </tbody>\n",
       "</table>\n",
       "</div>"
      ],
      "text/plain": [
       "    Loan_ID Gender Married Dependents     Education Self_Employed  \\\n",
       "0  LP001002   Male      No          0      Graduate            No   \n",
       "1  LP001003   Male     Yes          1      Graduate            No   \n",
       "2  LP001005   Male     Yes          0      Graduate           Yes   \n",
       "3  LP001006   Male     Yes          0  Not Graduate            No   \n",
       "4  LP001008   Male      No          0      Graduate            No   \n",
       "\n",
       "   ApplicantIncome  CoapplicantIncome  LoanAmount  Loan_Amount_Term  \\\n",
       "0             5849                0.0         NaN             360.0   \n",
       "1             4583             1508.0       128.0             360.0   \n",
       "2             3000                0.0        66.0             360.0   \n",
       "3             2583             2358.0       120.0             360.0   \n",
       "4             6000                0.0       141.0             360.0   \n",
       "\n",
       "   Credit_History Property_Area Loan_Status  \n",
       "0             1.0         Urban           Y  \n",
       "1             1.0         Rural           N  \n",
       "2             1.0         Urban           Y  \n",
       "3             1.0         Urban           Y  \n",
       "4             1.0         Urban           Y  "
      ]
     },
     "execution_count": 26,
     "metadata": {},
     "output_type": "execute_result"
    }
   ],
   "source": [
    "train_set.head(5)"
   ]
  },
  {
   "cell_type": "code",
   "execution_count": 27,
   "metadata": {},
   "outputs": [
    {
     "data": {
      "text/html": [
       "<div>\n",
       "<style scoped>\n",
       "    .dataframe tbody tr th:only-of-type {\n",
       "        vertical-align: middle;\n",
       "    }\n",
       "\n",
       "    .dataframe tbody tr th {\n",
       "        vertical-align: top;\n",
       "    }\n",
       "\n",
       "    .dataframe thead th {\n",
       "        text-align: right;\n",
       "    }\n",
       "</style>\n",
       "<table border=\"1\" class=\"dataframe\">\n",
       "  <thead>\n",
       "    <tr style=\"text-align: right;\">\n",
       "      <th></th>\n",
       "      <th>Loan_ID</th>\n",
       "      <th>Gender</th>\n",
       "      <th>Married</th>\n",
       "      <th>Dependents</th>\n",
       "      <th>Education</th>\n",
       "      <th>Self_Employed</th>\n",
       "      <th>ApplicantIncome</th>\n",
       "      <th>CoapplicantIncome</th>\n",
       "      <th>LoanAmount</th>\n",
       "      <th>Loan_Amount_Term</th>\n",
       "      <th>Credit_History</th>\n",
       "      <th>Property_Area</th>\n",
       "    </tr>\n",
       "  </thead>\n",
       "  <tbody>\n",
       "    <tr>\n",
       "      <th>0</th>\n",
       "      <td>LP001015</td>\n",
       "      <td>Male</td>\n",
       "      <td>Yes</td>\n",
       "      <td>0</td>\n",
       "      <td>Graduate</td>\n",
       "      <td>No</td>\n",
       "      <td>5720</td>\n",
       "      <td>0</td>\n",
       "      <td>110.0</td>\n",
       "      <td>360.0</td>\n",
       "      <td>1.0</td>\n",
       "      <td>Urban</td>\n",
       "    </tr>\n",
       "    <tr>\n",
       "      <th>1</th>\n",
       "      <td>LP001022</td>\n",
       "      <td>Male</td>\n",
       "      <td>Yes</td>\n",
       "      <td>1</td>\n",
       "      <td>Graduate</td>\n",
       "      <td>No</td>\n",
       "      <td>3076</td>\n",
       "      <td>1500</td>\n",
       "      <td>126.0</td>\n",
       "      <td>360.0</td>\n",
       "      <td>1.0</td>\n",
       "      <td>Urban</td>\n",
       "    </tr>\n",
       "    <tr>\n",
       "      <th>2</th>\n",
       "      <td>LP001031</td>\n",
       "      <td>Male</td>\n",
       "      <td>Yes</td>\n",
       "      <td>2</td>\n",
       "      <td>Graduate</td>\n",
       "      <td>No</td>\n",
       "      <td>5000</td>\n",
       "      <td>1800</td>\n",
       "      <td>208.0</td>\n",
       "      <td>360.0</td>\n",
       "      <td>1.0</td>\n",
       "      <td>Urban</td>\n",
       "    </tr>\n",
       "    <tr>\n",
       "      <th>3</th>\n",
       "      <td>LP001035</td>\n",
       "      <td>Male</td>\n",
       "      <td>Yes</td>\n",
       "      <td>2</td>\n",
       "      <td>Graduate</td>\n",
       "      <td>No</td>\n",
       "      <td>2340</td>\n",
       "      <td>2546</td>\n",
       "      <td>100.0</td>\n",
       "      <td>360.0</td>\n",
       "      <td>NaN</td>\n",
       "      <td>Urban</td>\n",
       "    </tr>\n",
       "    <tr>\n",
       "      <th>4</th>\n",
       "      <td>LP001051</td>\n",
       "      <td>Male</td>\n",
       "      <td>No</td>\n",
       "      <td>0</td>\n",
       "      <td>Not Graduate</td>\n",
       "      <td>No</td>\n",
       "      <td>3276</td>\n",
       "      <td>0</td>\n",
       "      <td>78.0</td>\n",
       "      <td>360.0</td>\n",
       "      <td>1.0</td>\n",
       "      <td>Urban</td>\n",
       "    </tr>\n",
       "  </tbody>\n",
       "</table>\n",
       "</div>"
      ],
      "text/plain": [
       "    Loan_ID Gender Married Dependents     Education Self_Employed  \\\n",
       "0  LP001015   Male     Yes          0      Graduate            No   \n",
       "1  LP001022   Male     Yes          1      Graduate            No   \n",
       "2  LP001031   Male     Yes          2      Graduate            No   \n",
       "3  LP001035   Male     Yes          2      Graduate            No   \n",
       "4  LP001051   Male      No          0  Not Graduate            No   \n",
       "\n",
       "   ApplicantIncome  CoapplicantIncome  LoanAmount  Loan_Amount_Term  \\\n",
       "0             5720                  0       110.0             360.0   \n",
       "1             3076               1500       126.0             360.0   \n",
       "2             5000               1800       208.0             360.0   \n",
       "3             2340               2546       100.0             360.0   \n",
       "4             3276                  0        78.0             360.0   \n",
       "\n",
       "   Credit_History Property_Area  \n",
       "0             1.0         Urban  \n",
       "1             1.0         Urban  \n",
       "2             1.0         Urban  \n",
       "3             NaN         Urban  \n",
       "4             1.0         Urban  "
      ]
     },
     "execution_count": 27,
     "metadata": {},
     "output_type": "execute_result"
    }
   ],
   "source": [
    "test_set.head(5)"
   ]
  },
  {
   "cell_type": "markdown",
   "metadata": {},
   "source": [
    "4.- Observa cuántos Nas tienes por columna y por fila (usa la función que vimos para hacerlo para todas las columnas/filas de una vez). Elimina las filas en donde haya valores nulos."
   ]
  },
  {
   "cell_type": "code",
   "execution_count": 29,
   "metadata": {},
   "outputs": [],
   "source": [
    "def num_nulos(x):\n",
    "  return x.isnull().sum()"
   ]
  },
  {
   "cell_type": "code",
   "execution_count": 30,
   "metadata": {},
   "outputs": [
    {
     "name": "stdout",
     "output_type": "stream",
     "text": [
      "Número de Nas por fila: \n",
      "Nas por fila:\n",
      "0      1\n",
      "1      0\n",
      "2      0\n",
      "3      0\n",
      "4      0\n",
      "5      0\n",
      "6      0\n",
      "7      0\n",
      "8      0\n",
      "9      0\n",
      "10     0\n",
      "11     1\n",
      "12     0\n",
      "13     0\n",
      "14     0\n",
      "15     0\n",
      "16     1\n",
      "17     0\n",
      "18     0\n",
      "19     2\n",
      "20     0\n",
      "21     0\n",
      "22     0\n",
      "23     1\n",
      "24     2\n",
      "25     0\n",
      "26     0\n",
      "27     0\n",
      "28     0\n",
      "29     1\n",
      "      ..\n",
      "584    0\n",
      "585    0\n",
      "586    0\n",
      "587    0\n",
      "588    1\n",
      "589    0\n",
      "590    0\n",
      "591    0\n",
      "592    1\n",
      "593    0\n",
      "594    0\n",
      "595    0\n",
      "596    0\n",
      "597    1\n",
      "598    0\n",
      "599    0\n",
      "600    2\n",
      "601    1\n",
      "602    0\n",
      "603    0\n",
      "604    0\n",
      "605    1\n",
      "606    0\n",
      "607    0\n",
      "608    0\n",
      "609    0\n",
      "610    0\n",
      "611    0\n",
      "612    0\n",
      "613    0\n",
      "Length: 614, dtype: int64\n",
      "\n",
      "\n",
      "Número de Nas por columna: \n",
      "Loan_ID               0\n",
      "Gender               13\n",
      "Married               3\n",
      "Dependents           15\n",
      "Education             0\n",
      "Self_Employed        32\n",
      "ApplicantIncome       0\n",
      "CoapplicantIncome     0\n",
      "LoanAmount           22\n",
      "Loan_Amount_Term     14\n",
      "Credit_History       50\n",
      "Property_Area         0\n",
      "Loan_Status           0\n",
      "dtype: int64\n"
     ]
    }
   ],
   "source": [
    "print(\"Número de Nas por fila: \")\n",
    "print(\"Nas por fila:\")\n",
    "print(train_set.apply(num_nulos, axis=1))\n",
    "\n",
    "print(\"\\n\")\n",
    "print(\"Número de Nas por columna: \")\n",
    "print(train_set.apply(num_nulos, axis=0))"
   ]
  },
  {
   "cell_type": "code",
   "execution_count": 31,
   "metadata": {},
   "outputs": [
    {
     "name": "stdout",
     "output_type": "stream",
     "text": [
      "Número de Nas por fila: \n",
      "Nas por fila:\n",
      "0      0\n",
      "1      0\n",
      "2      0\n",
      "3      1\n",
      "4      0\n",
      "5      0\n",
      "6      0\n",
      "7      0\n",
      "8      1\n",
      "9      0\n",
      "10     0\n",
      "11     1\n",
      "12     1\n",
      "13     1\n",
      "14     0\n",
      "15     0\n",
      "16     0\n",
      "17     0\n",
      "18     0\n",
      "19     0\n",
      "20     0\n",
      "21     0\n",
      "22     1\n",
      "23     0\n",
      "24     0\n",
      "25     0\n",
      "26     1\n",
      "27     0\n",
      "28     1\n",
      "29     0\n",
      "      ..\n",
      "337    0\n",
      "338    0\n",
      "339    0\n",
      "340    0\n",
      "341    0\n",
      "342    0\n",
      "343    0\n",
      "344    0\n",
      "345    0\n",
      "346    0\n",
      "347    0\n",
      "348    0\n",
      "349    0\n",
      "350    0\n",
      "351    1\n",
      "352    0\n",
      "353    0\n",
      "354    0\n",
      "355    0\n",
      "356    0\n",
      "357    0\n",
      "358    1\n",
      "359    0\n",
      "360    1\n",
      "361    0\n",
      "362    0\n",
      "363    0\n",
      "364    1\n",
      "365    0\n",
      "366    0\n",
      "Length: 367, dtype: int64\n",
      "\n",
      "\n",
      "Número de Nas por columna: \n",
      "Loan_ID               0\n",
      "Gender               11\n",
      "Married               0\n",
      "Dependents           10\n",
      "Education             0\n",
      "Self_Employed        23\n",
      "ApplicantIncome       0\n",
      "CoapplicantIncome     0\n",
      "LoanAmount            5\n",
      "Loan_Amount_Term      6\n",
      "Credit_History       29\n",
      "Property_Area         0\n",
      "dtype: int64\n"
     ]
    }
   ],
   "source": [
    "print(\"Número de Nas por fila: \")\n",
    "print(\"Nas por fila:\")\n",
    "print(test_set.apply(num_nulos, axis=1))\n",
    "\n",
    "print(\"\\n\")\n",
    "print(\"Número de Nas por columna: \")\n",
    "print(test_set.apply(num_nulos, axis=0))"
   ]
  },
  {
   "cell_type": "code",
   "execution_count": 34,
   "metadata": {},
   "outputs": [
    {
     "name": "stdout",
     "output_type": "stream",
     "text": [
      "Sustituyo Nas con otro valor: \n",
      "\n",
      "\n",
      "Verifico que ya no estén. La suma de nulos es: \n",
      "Loan_ID              0\n",
      "Gender               0\n",
      "Married              0\n",
      "Dependents           0\n",
      "Education            0\n",
      "Self_Employed        0\n",
      "ApplicantIncome      0\n",
      "CoapplicantIncome    0\n",
      "LoanAmount           0\n",
      "Loan_Amount_Term     0\n",
      "Credit_History       0\n",
      "Property_Area        0\n",
      "Loan_Status          0\n",
      "dtype: int64\n"
     ]
    }
   ],
   "source": [
    "print(\"Sustituyo Nas con otro valor: \")\n",
    "train_set['Gender'].fillna(0, inplace=True)\n",
    "train_set['Married'].fillna(0, inplace=True)\n",
    "train_set['Dependents'].fillna(0, inplace=True)\n",
    "train_set['Self_Employed'].fillna(0, inplace=True)\n",
    "train_set['LoanAmount'].fillna(0, inplace=True)\n",
    "train_set['Loan_Amount_Term'].fillna(0, inplace=True)\n",
    "train_set['Credit_History'].fillna(0, inplace=True)\n",
    "\n",
    "print(\"\\n\")\n",
    "print(\"Verifico que ya no estén. La suma de nulos es: \")\n",
    "print(train_set.apply(num_nulos, axis=0))"
   ]
  },
  {
   "cell_type": "code",
   "execution_count": 35,
   "metadata": {},
   "outputs": [
    {
     "name": "stdout",
     "output_type": "stream",
     "text": [
      "Sustituyo Nas con otro valor: \n",
      "\n",
      "\n",
      "Verifico que ya no estén. La suma de nulos es: \n",
      "Loan_ID              0\n",
      "Gender               0\n",
      "Married              0\n",
      "Dependents           0\n",
      "Education            0\n",
      "Self_Employed        0\n",
      "ApplicantIncome      0\n",
      "CoapplicantIncome    0\n",
      "LoanAmount           0\n",
      "Loan_Amount_Term     0\n",
      "Credit_History       0\n",
      "Property_Area        0\n",
      "dtype: int64\n"
     ]
    }
   ],
   "source": [
    "print(\"Sustituyo Nas con otro valor: \")\n",
    "test_set['Gender'].fillna(0, inplace=True)\n",
    "test_set['Dependents'].fillna(0, inplace=True)\n",
    "test_set['Self_Employed'].fillna(0, inplace=True)\n",
    "test_set['LoanAmount'].fillna(0, inplace=True)\n",
    "test_set['Loan_Amount_Term'].fillna(0, inplace=True)\n",
    "test_set['Credit_History'].fillna(0, inplace=True)\n",
    "\n",
    "print(\"\\n\")\n",
    "print(\"Verifico que ya no estén. La suma de nulos es: \")\n",
    "print(test_set.apply(num_nulos, axis=0))"
   ]
  },
  {
   "cell_type": "markdown",
   "metadata": {},
   "source": [
    "5.- Recodifica a 0-1 las variables categóricas que estén siendo tratadas como strings. Usa la función replace que vimos, con un diccionario para hacer esto."
   ]
  },
  {
   "cell_type": "code",
   "execution_count": 41,
   "metadata": {},
   "outputs": [
    {
     "data": {
      "text/html": [
       "<div>\n",
       "<style scoped>\n",
       "    .dataframe tbody tr th:only-of-type {\n",
       "        vertical-align: middle;\n",
       "    }\n",
       "\n",
       "    .dataframe tbody tr th {\n",
       "        vertical-align: top;\n",
       "    }\n",
       "\n",
       "    .dataframe thead th {\n",
       "        text-align: right;\n",
       "    }\n",
       "</style>\n",
       "<table border=\"1\" class=\"dataframe\">\n",
       "  <thead>\n",
       "    <tr style=\"text-align: right;\">\n",
       "      <th></th>\n",
       "      <th>Loan_ID</th>\n",
       "      <th>Gender</th>\n",
       "      <th>Married</th>\n",
       "      <th>Dependents</th>\n",
       "      <th>Education</th>\n",
       "      <th>Self_Employed</th>\n",
       "      <th>ApplicantIncome</th>\n",
       "      <th>CoapplicantIncome</th>\n",
       "      <th>LoanAmount</th>\n",
       "      <th>Loan_Amount_Term</th>\n",
       "      <th>Credit_History</th>\n",
       "      <th>Property_Area</th>\n",
       "      <th>Loan_Status</th>\n",
       "    </tr>\n",
       "  </thead>\n",
       "  <tbody>\n",
       "    <tr>\n",
       "      <th>0</th>\n",
       "      <td>LP001002</td>\n",
       "      <td>0</td>\n",
       "      <td>0</td>\n",
       "      <td>0</td>\n",
       "      <td>1</td>\n",
       "      <td>0</td>\n",
       "      <td>5849</td>\n",
       "      <td>0.0</td>\n",
       "      <td>0.0</td>\n",
       "      <td>360.0</td>\n",
       "      <td>1.0</td>\n",
       "      <td>Urban</td>\n",
       "      <td>1</td>\n",
       "    </tr>\n",
       "    <tr>\n",
       "      <th>1</th>\n",
       "      <td>LP001003</td>\n",
       "      <td>0</td>\n",
       "      <td>0</td>\n",
       "      <td>1</td>\n",
       "      <td>1</td>\n",
       "      <td>0</td>\n",
       "      <td>4583</td>\n",
       "      <td>1508.0</td>\n",
       "      <td>128.0</td>\n",
       "      <td>360.0</td>\n",
       "      <td>1.0</td>\n",
       "      <td>Rural</td>\n",
       "      <td>0</td>\n",
       "    </tr>\n",
       "    <tr>\n",
       "      <th>2</th>\n",
       "      <td>LP001005</td>\n",
       "      <td>0</td>\n",
       "      <td>0</td>\n",
       "      <td>0</td>\n",
       "      <td>1</td>\n",
       "      <td>1</td>\n",
       "      <td>3000</td>\n",
       "      <td>0.0</td>\n",
       "      <td>66.0</td>\n",
       "      <td>360.0</td>\n",
       "      <td>1.0</td>\n",
       "      <td>Urban</td>\n",
       "      <td>1</td>\n",
       "    </tr>\n",
       "    <tr>\n",
       "      <th>3</th>\n",
       "      <td>LP001006</td>\n",
       "      <td>0</td>\n",
       "      <td>0</td>\n",
       "      <td>0</td>\n",
       "      <td>0</td>\n",
       "      <td>0</td>\n",
       "      <td>2583</td>\n",
       "      <td>2358.0</td>\n",
       "      <td>120.0</td>\n",
       "      <td>360.0</td>\n",
       "      <td>1.0</td>\n",
       "      <td>Urban</td>\n",
       "      <td>1</td>\n",
       "    </tr>\n",
       "    <tr>\n",
       "      <th>4</th>\n",
       "      <td>LP001008</td>\n",
       "      <td>0</td>\n",
       "      <td>0</td>\n",
       "      <td>0</td>\n",
       "      <td>1</td>\n",
       "      <td>0</td>\n",
       "      <td>6000</td>\n",
       "      <td>0.0</td>\n",
       "      <td>141.0</td>\n",
       "      <td>360.0</td>\n",
       "      <td>1.0</td>\n",
       "      <td>Urban</td>\n",
       "      <td>1</td>\n",
       "    </tr>\n",
       "  </tbody>\n",
       "</table>\n",
       "</div>"
      ],
      "text/plain": [
       "    Loan_ID  Gender  Married Dependents  Education  Self_Employed  \\\n",
       "0  LP001002       0        0          0          1              0   \n",
       "1  LP001003       0        0          1          1              0   \n",
       "2  LP001005       0        0          0          1              1   \n",
       "3  LP001006       0        0          0          0              0   \n",
       "4  LP001008       0        0          0          1              0   \n",
       "\n",
       "   ApplicantIncome  CoapplicantIncome  LoanAmount  Loan_Amount_Term  \\\n",
       "0             5849                0.0         0.0             360.0   \n",
       "1             4583             1508.0       128.0             360.0   \n",
       "2             3000                0.0        66.0             360.0   \n",
       "3             2583             2358.0       120.0             360.0   \n",
       "4             6000                0.0       141.0             360.0   \n",
       "\n",
       "   Credit_History Property_Area  Loan_Status  \n",
       "0             1.0         Urban            1  \n",
       "1             1.0         Rural            0  \n",
       "2             1.0         Urban            1  \n",
       "3             1.0         Urban            1  \n",
       "4             1.0         Urban            1  "
      ]
     },
     "execution_count": 41,
     "metadata": {},
     "output_type": "execute_result"
    }
   ],
   "source": [
    "train_set['Gender'].replace('Male',0,inplace=True)\n",
    "train_set['Gender'].replace('Female',1,inplace=True)\n",
    "train_set['Married'].replace('No',0,inplace=True)\n",
    "train_set['Married'].replace('Yes',0,inplace=True)\n",
    "train_set['Education'].replace('Graduate',1,inplace=True)\n",
    "train_set['Education'].replace('Not Graduate',0,inplace=True)\n",
    "train_set['Self_Employed'].replace('Yes',1,inplace=True)\n",
    "train_set['Self_Employed'].replace('No',0,inplace=True)\n",
    "train_set['Loan_Status'].replace('Y',1,inplace=True)\n",
    "train_set['Loan_Status'].replace('N',0,inplace=True)\n",
    "\n",
    "train_set.head(5)"
   ]
  },
  {
   "cell_type": "code",
   "execution_count": 43,
   "metadata": {},
   "outputs": [
    {
     "data": {
      "text/html": [
       "<div>\n",
       "<style scoped>\n",
       "    .dataframe tbody tr th:only-of-type {\n",
       "        vertical-align: middle;\n",
       "    }\n",
       "\n",
       "    .dataframe tbody tr th {\n",
       "        vertical-align: top;\n",
       "    }\n",
       "\n",
       "    .dataframe thead th {\n",
       "        text-align: right;\n",
       "    }\n",
       "</style>\n",
       "<table border=\"1\" class=\"dataframe\">\n",
       "  <thead>\n",
       "    <tr style=\"text-align: right;\">\n",
       "      <th></th>\n",
       "      <th>Loan_ID</th>\n",
       "      <th>Gender</th>\n",
       "      <th>Married</th>\n",
       "      <th>Dependents</th>\n",
       "      <th>Education</th>\n",
       "      <th>Self_Employed</th>\n",
       "      <th>ApplicantIncome</th>\n",
       "      <th>CoapplicantIncome</th>\n",
       "      <th>LoanAmount</th>\n",
       "      <th>Loan_Amount_Term</th>\n",
       "      <th>Credit_History</th>\n",
       "      <th>Property_Area</th>\n",
       "    </tr>\n",
       "  </thead>\n",
       "  <tbody>\n",
       "    <tr>\n",
       "      <th>0</th>\n",
       "      <td>LP001015</td>\n",
       "      <td>0</td>\n",
       "      <td>0</td>\n",
       "      <td>0</td>\n",
       "      <td>1</td>\n",
       "      <td>0</td>\n",
       "      <td>5720</td>\n",
       "      <td>0</td>\n",
       "      <td>110.0</td>\n",
       "      <td>360.0</td>\n",
       "      <td>1.0</td>\n",
       "      <td>Urban</td>\n",
       "    </tr>\n",
       "    <tr>\n",
       "      <th>1</th>\n",
       "      <td>LP001022</td>\n",
       "      <td>0</td>\n",
       "      <td>0</td>\n",
       "      <td>1</td>\n",
       "      <td>1</td>\n",
       "      <td>0</td>\n",
       "      <td>3076</td>\n",
       "      <td>1500</td>\n",
       "      <td>126.0</td>\n",
       "      <td>360.0</td>\n",
       "      <td>1.0</td>\n",
       "      <td>Urban</td>\n",
       "    </tr>\n",
       "    <tr>\n",
       "      <th>2</th>\n",
       "      <td>LP001031</td>\n",
       "      <td>0</td>\n",
       "      <td>0</td>\n",
       "      <td>2</td>\n",
       "      <td>1</td>\n",
       "      <td>0</td>\n",
       "      <td>5000</td>\n",
       "      <td>1800</td>\n",
       "      <td>208.0</td>\n",
       "      <td>360.0</td>\n",
       "      <td>1.0</td>\n",
       "      <td>Urban</td>\n",
       "    </tr>\n",
       "    <tr>\n",
       "      <th>3</th>\n",
       "      <td>LP001035</td>\n",
       "      <td>0</td>\n",
       "      <td>0</td>\n",
       "      <td>2</td>\n",
       "      <td>1</td>\n",
       "      <td>0</td>\n",
       "      <td>2340</td>\n",
       "      <td>2546</td>\n",
       "      <td>100.0</td>\n",
       "      <td>360.0</td>\n",
       "      <td>0.0</td>\n",
       "      <td>Urban</td>\n",
       "    </tr>\n",
       "    <tr>\n",
       "      <th>4</th>\n",
       "      <td>LP001051</td>\n",
       "      <td>0</td>\n",
       "      <td>0</td>\n",
       "      <td>0</td>\n",
       "      <td>0</td>\n",
       "      <td>0</td>\n",
       "      <td>3276</td>\n",
       "      <td>0</td>\n",
       "      <td>78.0</td>\n",
       "      <td>360.0</td>\n",
       "      <td>1.0</td>\n",
       "      <td>Urban</td>\n",
       "    </tr>\n",
       "  </tbody>\n",
       "</table>\n",
       "</div>"
      ],
      "text/plain": [
       "    Loan_ID  Gender  Married Dependents  Education  Self_Employed  \\\n",
       "0  LP001015       0        0          0          1              0   \n",
       "1  LP001022       0        0          1          1              0   \n",
       "2  LP001031       0        0          2          1              0   \n",
       "3  LP001035       0        0          2          1              0   \n",
       "4  LP001051       0        0          0          0              0   \n",
       "\n",
       "   ApplicantIncome  CoapplicantIncome  LoanAmount  Loan_Amount_Term  \\\n",
       "0             5720                  0       110.0             360.0   \n",
       "1             3076               1500       126.0             360.0   \n",
       "2             5000               1800       208.0             360.0   \n",
       "3             2340               2546       100.0             360.0   \n",
       "4             3276                  0        78.0             360.0   \n",
       "\n",
       "   Credit_History Property_Area  \n",
       "0             1.0         Urban  \n",
       "1             1.0         Urban  \n",
       "2             1.0         Urban  \n",
       "3             0.0         Urban  \n",
       "4             1.0         Urban  "
      ]
     },
     "execution_count": 43,
     "metadata": {},
     "output_type": "execute_result"
    }
   ],
   "source": [
    "test_set['Gender'].replace('Male',0,inplace=True)\n",
    "test_set['Gender'].replace('Female',1,inplace=True)\n",
    "test_set['Married'].replace('No',0,inplace=True)\n",
    "test_set['Married'].replace('Yes',0,inplace=True)\n",
    "test_set['Education'].replace('Graduate',1,inplace=True)\n",
    "test_set['Education'].replace('Not Graduate',0,inplace=True)\n",
    "test_set['Self_Employed'].replace('Yes',1,inplace=True)\n",
    "test_set['Self_Employed'].replace('No',0,inplace=True)\n",
    "\n",
    "test_set.head(5)"
   ]
  },
  {
   "cell_type": "markdown",
   "metadata": {},
   "source": [
    "6.- Da un resumen de la media, la mediana, desviación estándar, mínimo, máximo de las variables. Adicionalmente usa df[col_name].value_counts() para saber cuántas observaciones se tienen para las variables categóricas."
   ]
  },
  {
   "cell_type": "code",
   "execution_count": 61,
   "metadata": {},
   "outputs": [
    {
     "name": "stdout",
     "output_type": "stream",
     "text": [
      "Estadisticos básicos de Gender:\n",
      "\n",
      "\n",
      "\n",
      "count    614.000000\n",
      "mean       0.182410\n",
      "std        0.386497\n",
      "min        0.000000\n",
      "25%        0.000000\n",
      "50%        0.000000\n",
      "75%        0.000000\n",
      "max        1.000000\n",
      "Name: Gender, dtype: float64\n",
      "\n",
      "\n",
      "Estadisticos básicos de Married:\n",
      "\n",
      "\n",
      "count    614.0\n",
      "mean       0.0\n",
      "std        0.0\n",
      "min        0.0\n",
      "25%        0.0\n",
      "50%        0.0\n",
      "75%        0.0\n",
      "max        0.0\n",
      "Name: Married, dtype: float64\n",
      "\n",
      "\n",
      "Estadisticos básicos de Education:\n",
      "\n",
      "\n",
      "count    614.000000\n",
      "mean       0.781759\n",
      "std        0.413389\n",
      "min        0.000000\n",
      "25%        1.000000\n",
      "50%        1.000000\n",
      "75%        1.000000\n",
      "max        1.000000\n",
      "Name: Education, dtype: float64\n",
      "\n",
      "\n",
      "Estadisticos básicos de Self_Employed:\n",
      "\n",
      "\n",
      "count    614.000000\n",
      "mean       0.133550\n",
      "std        0.340446\n",
      "min        0.000000\n",
      "25%        0.000000\n",
      "50%        0.000000\n",
      "75%        0.000000\n",
      "max        1.000000\n",
      "Name: Self_Employed, dtype: float64\n",
      "\n",
      "\n",
      "Estadisticos básicos de ApplicantIncome:\n",
      "\n",
      "\n",
      "count      614.000000\n",
      "mean      5403.459283\n",
      "std       6109.041673\n",
      "min        150.000000\n",
      "25%       2877.500000\n",
      "50%       3812.500000\n",
      "75%       5795.000000\n",
      "max      81000.000000\n",
      "Name: ApplicantIncome, dtype: float64\n",
      "\n",
      "\n",
      "Estadisticos básicos de CoapplicantIncome:\n",
      "\n",
      "\n",
      "count      614.000000\n",
      "mean      1621.245798\n",
      "std       2926.248369\n",
      "min          0.000000\n",
      "25%          0.000000\n",
      "50%       1188.500000\n",
      "75%       2297.250000\n",
      "max      41667.000000\n",
      "Name: CoapplicantIncome, dtype: float64\n",
      "\n",
      "\n",
      "Estadisticos básicos de LoanAmount:\n",
      "\n",
      "\n",
      "count    614.000000\n",
      "mean     141.166124\n",
      "std       88.340630\n",
      "min        0.000000\n",
      "25%       98.000000\n",
      "50%      125.000000\n",
      "75%      164.750000\n",
      "max      700.000000\n",
      "Name: LoanAmount, dtype: float64\n",
      "\n",
      "\n",
      "Estadisticos básicos de Loan_Amount_Term:\n",
      "\n",
      "\n",
      "count    614.000000\n",
      "mean     334.201954\n",
      "std       82.183884\n",
      "min        0.000000\n",
      "25%      360.000000\n",
      "50%      360.000000\n",
      "75%      360.000000\n",
      "max      480.000000\n",
      "Name: Loan_Amount_Term, dtype: float64\n",
      "\n",
      "\n",
      "Estadisticos básicos de Credit_History:\n",
      "\n",
      "\n",
      "count    614.000000\n",
      "mean       0.773616\n",
      "std        0.418832\n",
      "min        0.000000\n",
      "25%        1.000000\n",
      "50%        1.000000\n",
      "75%        1.000000\n",
      "max        1.000000\n",
      "Name: Credit_History, dtype: float64\n",
      "\n",
      "\n",
      "Estadisticos básicos de Loan_Status:\n",
      "\n",
      "\n",
      "count    614.000000\n",
      "mean       0.687296\n",
      "std        0.463973\n",
      "min        0.000000\n",
      "25%        0.000000\n",
      "50%        1.000000\n",
      "75%        1.000000\n",
      "max        1.000000\n",
      "Name: Loan_Status, dtype: float64\n",
      "\n",
      "\n",
      "Número de Observaciones de property_area:\n"
     ]
    },
    {
     "data": {
      "text/plain": [
       "Semiurban    233\n",
       "Urban        202\n",
       "Rural        179\n",
       "Name: Property_Area, dtype: int64"
      ]
     },
     "execution_count": 61,
     "metadata": {},
     "output_type": "execute_result"
    }
   ],
   "source": [
    "print(\"Estadisticos básicos de Gender:\\n\")\n",
    "print(\"\\n\")\n",
    "print(train_set.Gender.describe())\n",
    "print(\"\\n\")\n",
    "print(\"Estadisticos básicos de Married:\")\n",
    "print(\"\\n\")\n",
    "print(train_set.Married.describe())\n",
    "print(\"\\n\")\n",
    "print(\"Estadisticos básicos de Education:\")\n",
    "print(\"\\n\")\n",
    "print(train_set.Education.describe())\n",
    "print(\"\\n\")\n",
    "print(\"Estadisticos básicos de Self_Employed:\")\n",
    "print(\"\\n\")\n",
    "print(train_set.Self_Employed.describe())\n",
    "print(\"\\n\")\n",
    "print(\"Estadisticos básicos de ApplicantIncome:\")\n",
    "print(\"\\n\")\n",
    "print(train_set.ApplicantIncome.describe())\n",
    "print(\"\\n\")\n",
    "print(\"Estadisticos básicos de CoapplicantIncome:\")\n",
    "print(\"\\n\")\n",
    "print(train_set.CoapplicantIncome.describe())\n",
    "print(\"\\n\")\n",
    "print(\"Estadisticos básicos de LoanAmount:\")\n",
    "print(\"\\n\")\n",
    "print(train_set.LoanAmount.describe())\n",
    "print(\"\\n\")\n",
    "print(\"Estadisticos básicos de Loan_Amount_Term:\")\n",
    "print(\"\\n\")\n",
    "print(train_set.Loan_Amount_Term.describe())\n",
    "print(\"\\n\")\n",
    "print(\"Estadisticos básicos de Credit_History:\")\n",
    "print(\"\\n\")\n",
    "print(train_set.Credit_History.describe())\n",
    "print(\"\\n\")\n",
    "print(\"Estadisticos básicos de Loan_Status:\")\n",
    "print(\"\\n\")\n",
    "print(train_set.Loan_Status.describe())\n",
    "print(\"\\n\")\n",
    "print(\"Número de Observaciones de property_area:\")\n",
    "train_set['Property_Area'].value_counts()"
   ]
  },
  {
   "cell_type": "markdown",
   "metadata": {},
   "source": [
    "7.- Para las variables categóricas, usa una crosstab para saber si se les da más créditos a las mujeres que a los hombres. Usa otra crosstab para saber si el hecho de tener historial crediticio hace que sea más fácil que te aprueben un crédito. ¿Cuáles son tus conclusiones? BONUS: Investiga cómo poner porcentajes en estas tabla en vez de números."
   ]
  },
  {
   "cell_type": "markdown",
   "metadata": {},
   "source": [
    "**¿A LAS MUJERES SE LES DAN MÁS CRÉDITOS QUE A LOS HOMBRES?**"
   ]
  },
  {
   "cell_type": "code",
   "execution_count": 70,
   "metadata": {},
   "outputs": [
    {
     "name": "stdout",
     "output_type": "stream",
     "text": [
      "Loan_Status    0    1  All\n",
      "Gender                    \n",
      "0            155  347  502\n",
      "1             37   75  112\n",
      "All          192  422  614\n",
      "\n",
      "\n",
      "En porcentajes:\n",
      "Loan_Status          0          1\n",
      "Gender                           \n",
      "0            25.244300  56.514658\n",
      "1             6.026059  12.214984\n"
     ]
    }
   ],
   "source": [
    "print(pd.crosstab(train_set[\"Gender\"],train_set[\"Loan_Status\"],margins=True))\n",
    "print(\"\\n\")\n",
    "print(\"En porcentajes:\")\n",
    "print(pd.crosstab(train_set.Gender,train_set.Loan_Status, normalize='all')*100)"
   ]
  },
  {
   "cell_type": "markdown",
   "metadata": {},
   "source": [
    "Del total de créditos solicitados, el **81.7%**  fueron hechos por hombres, sin embargo en la tasa de aprobación se ve que en un 3% los hombres tienen mayor probabilidad de solicitar créditos y obtenerlos."
   ]
  },
  {
   "cell_type": "markdown",
   "metadata": {},
   "source": [
    "**¿EL TENER HISTORIAL CREDITICIO HACE QUE SEA MÁS FÁCIL LA APROBACIÓN DE LOS CRÉDITOS?**"
   ]
  },
  {
   "cell_type": "code",
   "execution_count": 74,
   "metadata": {},
   "outputs": [
    {
     "name": "stdout",
     "output_type": "stream",
     "text": [
      "Loan_Status       0    1  All\n",
      "Credit_History               \n",
      "0.0              95   44  139\n",
      "1.0              97  378  475\n",
      "All             192  422  614\n",
      "\n",
      "\n",
      "En porcentajes:\n",
      "Loan_Status             0          1\n",
      "Credit_History                      \n",
      "0.0             15.472313   7.166124\n",
      "1.0             15.798046  61.563518\n"
     ]
    }
   ],
   "source": [
    "print(pd.crosstab(train_set[\"Credit_History\"],train_set[\"Loan_Status\"],margins=True))\n",
    "print(\"\\n\")\n",
    "print(\"En porcentajes:\")\n",
    "print(pd.crosstab(train_set.Credit_History,train_set.Loan_Status,normalize='all')*100)"
   ]
  },
  {
   "cell_type": "markdown",
   "metadata": {},
   "source": [
    "El hecho de que el cliente ya tenga un historial crediticio le ayuda a que le otorguen un crédito, porque según la tabla, el **68%** de los prestamos son para clientes con un historial, sin embargo sí existen clientes que no tienen historial crediticio y les otorgan el crédito pero es solo en un **1.5%** del total."
   ]
  },
  {
   "cell_type": "markdown",
   "metadata": {},
   "source": [
    "8.- Haz un histograma para el ingreso de la persona y otro para la cantidad prestada. ¿Qué observas?"
   ]
  },
  {
   "cell_type": "code",
   "execution_count": 86,
   "metadata": {},
   "outputs": [
    {
     "data": {
      "text/plain": [
       "<matplotlib.axes._subplots.AxesSubplot at 0x117d05550>"
      ]
     },
     "execution_count": 86,
     "metadata": {},
     "output_type": "execute_result"
    },
    {
     "data": {
      "image/png": "[encoded data removed]",
      "text/plain": [
       "<matplotlib.figure.Figure at 0x117bfaf98>"
      ]
     },
     "metadata": {},
     "output_type": "display_data"
    }
   ],
   "source": [
    "import matplotlib.pyplot as plt\n",
    "graph=train_set[train_set['Loan_Status']==1]\n",
    "plt.title('Monto_Prestado')\n",
    "graph[\"LoanAmount\"].hist(bins = 20, color = 'pink', edgecolor = 'white')"
   ]
  },
  {
   "cell_type": "code",
   "execution_count": 87,
   "metadata": {},
   "outputs": [
    {
     "data": {
      "text/plain": [
       "<matplotlib.axes._subplots.AxesSubplot at 0x117e3bba8>"
      ]
     },
     "execution_count": 87,
     "metadata": {},
     "output_type": "execute_result"
    },
    {
     "data": {
      "image/png": "[encoded data removed]",
      "text/plain": [
       "<matplotlib.figure.Figure at 0x117edc128>"
      ]
     },
     "metadata": {},
     "output_type": "display_data"
    }
   ],
   "source": [
    "plt.title('Ingresos')\n",
    "graph[\"ApplicantIncome\"].hist(bins=20, color = 'purple', edgecolor = 'white')"
   ]
  },
  {
   "cell_type": "markdown",
   "metadata": {},
   "source": [
    "Al analizar los gráficos nos damos cuenta de que las personas con menores ingresos son quienes piden los créditos y la mayoría de estos se encuentran en un rango de 100 a 250"
   ]
  },
  {
   "cell_type": "markdown",
   "metadata": {},
   "source": [
    "9.- Haz un boxplot para la cantidad del préstamo según el historial crediticio de la persona. ¿Hay diferencias en la cantidad prestada dependiendo si tiene historial o no? Repite el mismo boxplot pero ahora según el sexo. ¿Hay diferencias?"
   ]
  },
  {
   "cell_type": "markdown",
   "metadata": {},
   "source": [
    "***CANTIDAD PRESTADA VS HISTORIAL CREDITICIO***"
   ]
  },
  {
   "cell_type": "code",
   "execution_count": 81,
   "metadata": {},
   "outputs": [
    {
     "data": {
      "text/plain": [
       "<matplotlib.axes._subplots.AxesSubplot at 0x113230128>"
      ]
     },
     "execution_count": 81,
     "metadata": {},
     "output_type": "execute_result"
    },
    {
     "data": {
      "image/png": "[encoded data removed]",
      "text/plain": [
       "<matplotlib.figure.Figure at 0x10db39a90>"
      ]
     },
     "metadata": {},
     "output_type": "display_data"
    }
   ],
   "source": [
    "train_set.boxplot(column='LoanAmount',by=\"Credit_History\")"
   ]
  },
  {
   "cell_type": "markdown",
   "metadata": {},
   "source": [
    "Podemos observar que las personas que tienen un historial crediticio son a quienes les otrogan más dinero en sus préstamos"
   ]
  },
  {
   "cell_type": "markdown",
   "metadata": {},
   "source": [
    "***CANTIDAD PRESTADA VS GÉNERO***"
   ]
  },
  {
   "cell_type": "code",
   "execution_count": 89,
   "metadata": {},
   "outputs": [
    {
     "data": {
      "text/plain": [
       "<matplotlib.axes._subplots.AxesSubplot at 0x117f9f358>"
      ]
     },
     "execution_count": 89,
     "metadata": {},
     "output_type": "execute_result"
    },
    {
     "data": {
      "image/png": "[encoded data removed]",
      "text/plain": [
       "<matplotlib.figure.Figure at 0x117dad8d0>"
      ]
     },
     "metadata": {},
     "output_type": "display_data"
    }
   ],
   "source": [
    "train_set.boxplot(column='LoanAmount',by=\"Gender\")"
   ]
  },
  {
   "cell_type": "markdown",
   "metadata": {},
   "source": [
    "En este caso podemos observar que a los hombres les prestan más dinero que a las mujeres en la parte de arriba podríamos inferir que las mujeres están presentando menores."
   ]
  }
 ],
 "metadata": {
  "kernelspec": {
   "display_name": "Python 3",
   "language": "python",
   "name": "python3"
  },
  "language_info": {
   "codemirror_mode": {
    "name": "ipython",
    "version": 3
   },
   "file_extension": ".py",
   "mimetype": "text/x-python",
   "name": "python",
   "nbconvert_exporter": "python",
   "pygments_lexer": "ipython3",
   "version": "3.6.4"
  }
 },
 "nbformat": 4,
 "nbformat_minor": 2
}
